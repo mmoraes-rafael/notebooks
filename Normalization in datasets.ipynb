{
 "cells": [
  {
   "cell_type": "code",
   "execution_count": 1,
   "metadata": {},
   "outputs": [],
   "source": [
    "from torchvision import datasets as datasets_torch\n",
    "from torchvision.transforms import ToTensor, Normalize, Compose\n",
    "from torch.utils.data import DataLoader"
   ]
  },
  {
   "cell_type": "markdown",
   "metadata": {},
   "source": [
    "## MNIST\n",
    "### Load the data"
   ]
  },
  {
   "cell_type": "code",
   "execution_count": 39,
   "metadata": {},
   "outputs": [],
   "source": [
    "dataset_name = 'MNIST'\n",
    "\n",
    "transforms = []\n",
    "\n",
    "transforms += [ToTensor()]\n",
    "\n",
    "# Normalize\n",
    "# transforms.append(Normalize(mean=(0.1307,), std=(0.3081,)))\n",
    "\n",
    "transforms = Compose(transforms)"
   ]
  },
  {
   "cell_type": "code",
   "execution_count": 46,
   "metadata": {},
   "outputs": [],
   "source": [
    "dataset = getattr(datasets_torch, dataset_name)\n",
    "\n",
    "dataset_train = dataset(root='/tmp/{}'.format(dataset), train=True, download=True, transform=transforms)\n",
    "# dataset_test = dataset(root='/tmp/{}'.format(dataset), train=False, download=True, transform=transforms)\n",
    "\n",
    "data = DataLoader(dataset_train, batch_size=60000, num_workers=4, shuffle=True)\n"
   ]
  },
  {
   "cell_type": "markdown",
   "metadata": {},
   "source": [
    "### Finding the mean and variance"
   ]
  },
  {
   "cell_type": "code",
   "execution_count": 47,
   "metadata": {},
   "outputs": [
    {
     "name": "stdout",
     "output_type": "stream",
     "text": [
      "torch.Size([60000, 1, 28, 28]) torch.Size([60000])\n",
      "tensor(1.) tensor(0.)\n",
      "tensor(0.1307) tensor(0.3081)\n"
     ]
    }
   ],
   "source": [
    "for (X, Y) in data:\n",
    "    print(X.shape, Y.shape)\n",
    "    print(X.max(), X.min())\n",
    "    print(X.mean(), X.std())\n",
    "    break"
   ]
  },
  {
   "cell_type": "markdown",
   "metadata": {},
   "source": [
    "As seen above, the empirical mean of the dataset is **0.1307** and the empirical standard deviation is **0.3081**"
   ]
  },
  {
   "cell_type": "markdown",
   "metadata": {},
   "source": [
    "## SVHN"
   ]
  },
  {
   "cell_type": "code",
   "execution_count": 2,
   "metadata": {},
   "outputs": [],
   "source": [
    "dataset_name = 'SVHN'\n",
    "\n",
    "transforms = []\n",
    "\n",
    "transforms += [ToTensor()]\n",
    "\n",
    "# Normalize\n",
    "# transforms.append(Normalize(mean=(0.1307,), std=(0.3081,)))\n",
    "\n",
    "transforms = Compose(transforms)"
   ]
  },
  {
   "cell_type": "code",
   "execution_count": 3,
   "metadata": {},
   "outputs": [
    {
     "name": "stdout",
     "output_type": "stream",
     "text": [
      "Using downloaded and verified file: /tmp/SVHN/train_32x32.mat\n"
     ]
    }
   ],
   "source": [
    "dataset = getattr(datasets_torch, dataset_name)\n",
    "\n",
    "dataset_train = dataset(root='/tmp/{}'.format(dataset_name), download=True, transform=transforms)\n",
    "\n",
    "data = DataLoader(dataset_train, batch_size=80000, num_workers=4, shuffle=True)\n"
   ]
  },
  {
   "cell_type": "markdown",
   "metadata": {},
   "source": [
    "### Finding the mean and variance"
   ]
  },
  {
   "cell_type": "code",
   "execution_count": 4,
   "metadata": {},
   "outputs": [
    {
     "name": "stdout",
     "output_type": "stream",
     "text": [
      "torch.Size([73257, 3, 32, 32]) torch.Size([73257])\n",
      "tensor(1.) tensor(0.)\n",
      "tensor([0.4377, 0.4438, 0.4728]) tensor([0.1980, 0.2010, 0.1970])\n"
     ]
    }
   ],
   "source": [
    "for (X, Y) in data:\n",
    "    print(X.shape, Y.shape)\n",
    "    print(X.max(), X.min())\n",
    "    print(X.mean(dim=(0, 2, 3)), X.std(dim=(0, 2, 3,)))\n",
    "    break"
   ]
  },
  {
   "cell_type": "markdown",
   "metadata": {},
   "source": [
    "As seen above, the empirical mean of the dataset is **(0.4377, 0.4438, 0.4728)** and the empirical standard deviation is **(0.1980, 0.2010, 0.1970)**"
   ]
  }
 ],
 "metadata": {
  "kernelspec": {
   "display_name": "Python 3",
   "language": "python",
   "name": "python3"
  },
  "language_info": {
   "codemirror_mode": {
    "name": "ipython",
    "version": 3
   },
   "file_extension": ".py",
   "mimetype": "text/x-python",
   "name": "python",
   "nbconvert_exporter": "python",
   "pygments_lexer": "ipython3",
   "version": "3.6.8"
  }
 },
 "nbformat": 4,
 "nbformat_minor": 2
}
